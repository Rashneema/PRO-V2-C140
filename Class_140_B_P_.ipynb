{
  "nbformat": 4,
  "nbformat_minor": 0,
  "metadata": {
    "colab": {
      "provenance": [],
      "include_colab_link": true
    },
    "kernelspec": {
      "name": "python3",
      "display_name": "Python 3"
    },
    "language_info": {
      "name": "python"
    }
  },
  "cells": [
    {
      "cell_type": "markdown",
      "metadata": {
        "id": "view-in-github",
        "colab_type": "text"
      },
      "source": [
        "<a href=\"https://colab.research.google.com/github/Rashneema/PRO-V2-C140/blob/main/Class_140_B_P_.ipynb\" target=\"_parent\"><img src=\"https://colab.research.google.com/assets/colab-badge.svg\" alt=\"Open In Colab\"/></a>"
      ]
    },
    {
      "cell_type": "code",
      "source": [
        "# cloning data\n",
        "!git clone https://github.com/procodingclass/kaggle-movie-data-.git"
      ],
      "metadata": {
        "colab": {
          "base_uri": "https://localhost:8080/"
        },
        "id": "d568JL8rl_YL",
        "outputId": "d18f5aeb-86de-4d05-b1e6-77a40b799cbb"
      },
      "execution_count": 1,
      "outputs": [
        {
          "output_type": "stream",
          "name": "stdout",
          "text": [
            "Cloning into 'kaggle-movie-data-'...\n",
            "remote: Enumerating objects: 7, done.\u001b[K\n",
            "remote: Counting objects: 100% (7/7), done.\u001b[K\n",
            "remote: Compressing objects: 100% (5/5), done.\u001b[K\n",
            "remote: Total 7 (delta 0), reused 4 (delta 0), pack-reused 0\u001b[K\n",
            "Receiving objects: 100% (7/7), 8.85 MiB | 16.34 MiB/s, done.\n"
          ]
        }
      ]
    },
    {
      "cell_type": "code",
      "source": [
        "# creating dataframe\n",
        "import pandas as pd\n",
        "import numpy as np\n",
        "\n",
        "credits_df = pd.read_csv('/content/kaggle-movie-data-/tmdb_5000_credits.csv')\n",
        "movies_df = pd.read_csv('/content/kaggle-movie-data-/tmdb_5000_movies.csv')"
      ],
      "metadata": {
        "id": "Ps2Lq8U073Gn"
      },
      "execution_count": 2,
      "outputs": []
    },
    {
      "cell_type": "code",
      "source": [
        "# info of credits dataframe\n",
        "credits_df.info()"
      ],
      "metadata": {
        "id": "luao09d98EqB",
        "colab": {
          "base_uri": "https://localhost:8080/"
        },
        "outputId": "01fa9155-fe79-4108-e1e0-32eeb5cd4b5b"
      },
      "execution_count": 3,
      "outputs": [
        {
          "output_type": "stream",
          "name": "stdout",
          "text": [
            "<class 'pandas.core.frame.DataFrame'>\n",
            "RangeIndex: 4803 entries, 0 to 4802\n",
            "Data columns (total 4 columns):\n",
            " #   Column    Non-Null Count  Dtype \n",
            "---  ------    --------------  ----- \n",
            " 0   movie_id  4803 non-null   int64 \n",
            " 1   title     4803 non-null   object\n",
            " 2   cast      4803 non-null   object\n",
            " 3   crew      4802 non-null   object\n",
            "dtypes: int64(1), object(3)\n",
            "memory usage: 150.2+ KB\n"
          ]
        }
      ]
    },
    {
      "cell_type": "code",
      "source": [
        "# changing col name to merge dataframes\n",
        "credits_df.rename(columns = {'movie_id' : 'id'} , inplace = True)\n",
        "credits_df.info()"
      ],
      "metadata": {
        "id": "tDF6Ax4v8EzF",
        "colab": {
          "base_uri": "https://localhost:8080/"
        },
        "outputId": "33ed4c74-7348-4fc7-bad8-21698e89b3bd"
      },
      "execution_count": 4,
      "outputs": [
        {
          "output_type": "stream",
          "name": "stdout",
          "text": [
            "<class 'pandas.core.frame.DataFrame'>\n",
            "RangeIndex: 4803 entries, 0 to 4802\n",
            "Data columns (total 4 columns):\n",
            " #   Column  Non-Null Count  Dtype \n",
            "---  ------  --------------  ----- \n",
            " 0   id      4803 non-null   int64 \n",
            " 1   title   4803 non-null   object\n",
            " 2   cast    4803 non-null   object\n",
            " 3   crew    4802 non-null   object\n",
            "dtypes: int64(1), object(3)\n",
            "memory usage: 150.2+ KB\n"
          ]
        }
      ]
    },
    {
      "cell_type": "code",
      "source": [
        "# merging dataframes\n",
        "common_df = pd.merge(movies_df , credits_df , on = 'id')\n",
        "common_df.info()"
      ],
      "metadata": {
        "id": "pZESpOP08K0S",
        "colab": {
          "base_uri": "https://localhost:8080/"
        },
        "outputId": "af82ec3c-2486-4d2d-9ec9-e5944d751516"
      },
      "execution_count": 5,
      "outputs": [
        {
          "output_type": "stream",
          "name": "stdout",
          "text": [
            "<class 'pandas.core.frame.DataFrame'>\n",
            "Int64Index: 4803 entries, 0 to 4802\n",
            "Data columns (total 23 columns):\n",
            " #   Column                Non-Null Count  Dtype  \n",
            "---  ------                --------------  -----  \n",
            " 0   budget                4803 non-null   int64  \n",
            " 1   genres                4803 non-null   object \n",
            " 2   homepage              1712 non-null   object \n",
            " 3   id                    4803 non-null   int64  \n",
            " 4   keywords              4803 non-null   object \n",
            " 5   original_language     4803 non-null   object \n",
            " 6   original_title        4803 non-null   object \n",
            " 7   overview              4799 non-null   object \n",
            " 8   popularity            4803 non-null   float64\n",
            " 9   production_companies  4803 non-null   object \n",
            " 10  production_countries  4803 non-null   object \n",
            " 11  release_date          4802 non-null   object \n",
            " 12  revenue               4803 non-null   int64  \n",
            " 13  runtime               4801 non-null   float64\n",
            " 14  spoken_languages      4803 non-null   object \n",
            " 15  status                4803 non-null   object \n",
            " 16  tagline               3959 non-null   object \n",
            " 17  title_x               4803 non-null   object \n",
            " 18  vote_average          4803 non-null   float64\n",
            " 19  vote_count            4803 non-null   int64  \n",
            " 20  title_y               4803 non-null   object \n",
            " 21  cast                  4803 non-null   object \n",
            " 22  crew                  4802 non-null   object \n",
            "dtypes: float64(3), int64(4), object(16)\n",
            "memory usage: 900.6+ KB\n"
          ]
        }
      ]
    },
    {
      "cell_type": "code",
      "source": [
        "# dropping columns : cleaning dataset\n",
        "common_df.drop(['homepage', 'title_x', 'title_y', 'production_companies'] , axis = 1 , inplace = True)\n",
        "common_df.info()"
      ],
      "metadata": {
        "id": "iJFLDIvfJWUB",
        "colab": {
          "base_uri": "https://localhost:8080/"
        },
        "outputId": "4ba4b7a3-35cf-4c1b-c726-29621bfa42df"
      },
      "execution_count": 6,
      "outputs": [
        {
          "output_type": "stream",
          "name": "stdout",
          "text": [
            "<class 'pandas.core.frame.DataFrame'>\n",
            "Int64Index: 4803 entries, 0 to 4802\n",
            "Data columns (total 19 columns):\n",
            " #   Column                Non-Null Count  Dtype  \n",
            "---  ------                --------------  -----  \n",
            " 0   budget                4803 non-null   int64  \n",
            " 1   genres                4803 non-null   object \n",
            " 2   id                    4803 non-null   int64  \n",
            " 3   keywords              4803 non-null   object \n",
            " 4   original_language     4803 non-null   object \n",
            " 5   original_title        4803 non-null   object \n",
            " 6   overview              4799 non-null   object \n",
            " 7   popularity            4803 non-null   float64\n",
            " 8   production_countries  4803 non-null   object \n",
            " 9   release_date          4802 non-null   object \n",
            " 10  revenue               4803 non-null   int64  \n",
            " 11  runtime               4801 non-null   float64\n",
            " 12  spoken_languages      4803 non-null   object \n",
            " 13  status                4803 non-null   object \n",
            " 14  tagline               3959 non-null   object \n",
            " 15  vote_average          4803 non-null   float64\n",
            " 16  vote_count            4803 non-null   int64  \n",
            " 17  cast                  4803 non-null   object \n",
            " 18  crew                  4802 non-null   object \n",
            "dtypes: float64(3), int64(4), object(12)\n",
            "memory usage: 750.5+ KB\n"
          ]
        }
      ]
    },
    {
      "cell_type": "code",
      "source": [
        "common_df.dropna(inplace = True)\n",
        "common_df.info()"
      ],
      "metadata": {
        "colab": {
          "base_uri": "https://localhost:8080/"
        },
        "id": "4whNnS6WldlQ",
        "outputId": "94eaae03-3422-4ee4-ff92-729f8768ee7b"
      },
      "execution_count": 7,
      "outputs": [
        {
          "output_type": "stream",
          "name": "stdout",
          "text": [
            "<class 'pandas.core.frame.DataFrame'>\n",
            "Int64Index: 3958 entries, 0 to 4801\n",
            "Data columns (total 19 columns):\n",
            " #   Column                Non-Null Count  Dtype  \n",
            "---  ------                --------------  -----  \n",
            " 0   budget                3958 non-null   int64  \n",
            " 1   genres                3958 non-null   object \n",
            " 2   id                    3958 non-null   int64  \n",
            " 3   keywords              3958 non-null   object \n",
            " 4   original_language     3958 non-null   object \n",
            " 5   original_title        3958 non-null   object \n",
            " 6   overview              3958 non-null   object \n",
            " 7   popularity            3958 non-null   float64\n",
            " 8   production_countries  3958 non-null   object \n",
            " 9   release_date          3958 non-null   object \n",
            " 10  revenue               3958 non-null   int64  \n",
            " 11  runtime               3958 non-null   float64\n",
            " 12  spoken_languages      3958 non-null   object \n",
            " 13  status                3958 non-null   object \n",
            " 14  tagline               3958 non-null   object \n",
            " 15  vote_average          3958 non-null   float64\n",
            " 16  vote_count            3958 non-null   int64  \n",
            " 17  cast                  3958 non-null   object \n",
            " 18  crew                  3958 non-null   object \n",
            "dtypes: float64(3), int64(4), object(12)\n",
            "memory usage: 618.4+ KB\n"
          ]
        }
      ]
    },
    {
      "cell_type": "code",
      "source": [
        "# calculating weighted average\n",
        "R = common_df['vote_average']\n",
        "v = common_df['vote_count']\n",
        "C = common_df['vote_average'].mean()\n",
        "m = common_df['vote_count'].quantile(0.9)\n",
        "print(C , m)\n",
        "common_df['weighted_rating'] = (R*v + C*m) / (v + m)"
      ],
      "metadata": {
        "id": "ILrJ4KSlC-A6",
        "colab": {
          "base_uri": "https://localhost:8080/"
        },
        "outputId": "c9da260d-21f2-4527-aec1-2b4570e438ee"
      },
      "execution_count": 8,
      "outputs": [
        {
          "output_type": "stream",
          "name": "stdout",
          "text": [
            "6.181859525012634 2101.2000000000007\n"
          ]
        }
      ]
    },
    {
      "cell_type": "code",
      "source": [
        "# sorting dataframe\n",
        "common_df.sort_values('weighted_rating' , ascending = False , inplace = True)"
      ],
      "metadata": {
        "id": "wt_n0Za_Dqyn"
      },
      "execution_count": 9,
      "outputs": []
    },
    {
      "cell_type": "code",
      "source": [
        "common_df.head()"
      ],
      "metadata": {
        "id": "OJUt8c3AELVN",
        "colab": {
          "base_uri": "https://localhost:8080/",
          "height": 660
        },
        "outputId": "ba48bec0-7763-4c1b-fdbc-5612aa280d83"
      },
      "execution_count": 10,
      "outputs": [
        {
          "output_type": "execute_result",
          "data": {
            "text/plain": [
              "         budget                                             genres     id  \\\n",
              "1881   25000000  [{\"id\": 18, \"name\": \"Drama\"}, {\"id\": 80, \"name...    278   \n",
              "662    63000000                      [{\"id\": 18, \"name\": \"Drama\"}]    550   \n",
              "65    185000000  [{\"id\": 18, \"name\": \"Drama\"}, {\"id\": 28, \"name...    155   \n",
              "3232    8000000  [{\"id\": 53, \"name\": \"Thriller\"}, {\"id\": 80, \"n...    680   \n",
              "96    160000000  [{\"id\": 28, \"name\": \"Action\"}, {\"id\": 53, \"nam...  27205   \n",
              "\n",
              "                                               keywords original_language  \\\n",
              "1881  [{\"id\": 378, \"name\": \"prison\"}, {\"id\": 417, \"n...                en   \n",
              "662   [{\"id\": 825, \"name\": \"support group\"}, {\"id\": ...                en   \n",
              "65    [{\"id\": 849, \"name\": \"dc comics\"}, {\"id\": 853,...                en   \n",
              "3232  [{\"id\": 396, \"name\": \"transporter\"}, {\"id\": 14...                en   \n",
              "96    [{\"id\": 1014, \"name\": \"loss of lover\"}, {\"id\":...                en   \n",
              "\n",
              "                original_title  \\\n",
              "1881  The Shawshank Redemption   \n",
              "662                 Fight Club   \n",
              "65             The Dark Knight   \n",
              "3232              Pulp Fiction   \n",
              "96                   Inception   \n",
              "\n",
              "                                               overview  popularity  \\\n",
              "1881  Framed in the 1940s for the double murder of h...  136.747729   \n",
              "662   A ticking-time-bomb insomniac and a slippery s...  146.757391   \n",
              "65    Batman raises the stakes in his war on crime. ...  187.322927   \n",
              "3232  A burger-loving hit man, his philosophical par...  121.463076   \n",
              "96    Cobb, a skilled thief who commits corporate es...  167.583710   \n",
              "\n",
              "                                   production_countries release_date  \\\n",
              "1881  [{\"iso_3166_1\": \"US\", \"name\": \"United States o...   1994-09-23   \n",
              "662   [{\"iso_3166_1\": \"DE\", \"name\": \"Germany\"}, {\"is...   1999-10-15   \n",
              "65    [{\"iso_3166_1\": \"GB\", \"name\": \"United Kingdom\"...   2008-07-16   \n",
              "3232  [{\"iso_3166_1\": \"US\", \"name\": \"United States o...   1994-10-08   \n",
              "96    [{\"iso_3166_1\": \"GB\", \"name\": \"United Kingdom\"...   2010-07-14   \n",
              "\n",
              "         revenue  runtime                                   spoken_languages  \\\n",
              "1881    28341469    142.0           [{\"iso_639_1\": \"en\", \"name\": \"English\"}]   \n",
              "662    100853753    139.0           [{\"iso_639_1\": \"en\", \"name\": \"English\"}]   \n",
              "65    1004558444    152.0  [{\"iso_639_1\": \"en\", \"name\": \"English\"}, {\"iso...   \n",
              "3232   213928762    154.0  [{\"iso_639_1\": \"en\", \"name\": \"English\"}, {\"iso...   \n",
              "96     825532764    148.0  [{\"iso_639_1\": \"en\", \"name\": \"English\"}, {\"iso...   \n",
              "\n",
              "        status                                            tagline  \\\n",
              "1881  Released  Fear can hold you prisoner. Hope can set you f...   \n",
              "662   Released                            Mischief. Mayhem. Soap.   \n",
              "65    Released                                    Why So Serious?   \n",
              "3232  Released  Just because you are a character doesn't mean ...   \n",
              "96    Released               Your mind is the scene of the crime.   \n",
              "\n",
              "      vote_average  vote_count  \\\n",
              "1881           8.5        8205   \n",
              "662            8.3        9413   \n",
              "65             8.2       12002   \n",
              "3232           8.3        8428   \n",
              "96             8.1       13752   \n",
              "\n",
              "                                                   cast  \\\n",
              "1881  [{\"cast_id\": 3, \"character\": \"Andy Dufresne\", ...   \n",
              "662   [{\"cast_id\": 4, \"character\": \"The Narrator\", \"...   \n",
              "65    [{\"cast_id\": 35, \"character\": \"Bruce Wayne\", \"...   \n",
              "3232  [{\"cast_id\": 2, \"character\": \"Vincent Vega\", \"...   \n",
              "96    [{\"cast_id\": 1, \"character\": \"Dom Cobb\", \"cred...   \n",
              "\n",
              "                                                   crew  weighted_rating  \n",
              "1881  [{\"credit_id\": \"52fe4231c3a36847f800b153\", \"de...         8.027384  \n",
              "662   [{\"credit_id\": \"55731b8192514111610027d7\", \"de...         7.913465  \n",
              "65    [{\"credit_id\": \"55a0eb4a925141296b0010f8\", \"de...         7.899322  \n",
              "3232  [{\"credit_id\": \"52fe4269c3a36847f801caa3\", \"de...         7.877305  \n",
              "96    [{\"credit_id\": \"56e8462cc3a368408400354c\", \"de...         7.845768  "
            ],
            "text/html": [
              "\n",
              "  <div id=\"df-83008c57-9385-45cc-b322-206c392ffa72\" class=\"colab-df-container\">\n",
              "    <div>\n",
              "<style scoped>\n",
              "    .dataframe tbody tr th:only-of-type {\n",
              "        vertical-align: middle;\n",
              "    }\n",
              "\n",
              "    .dataframe tbody tr th {\n",
              "        vertical-align: top;\n",
              "    }\n",
              "\n",
              "    .dataframe thead th {\n",
              "        text-align: right;\n",
              "    }\n",
              "</style>\n",
              "<table border=\"1\" class=\"dataframe\">\n",
              "  <thead>\n",
              "    <tr style=\"text-align: right;\">\n",
              "      <th></th>\n",
              "      <th>budget</th>\n",
              "      <th>genres</th>\n",
              "      <th>id</th>\n",
              "      <th>keywords</th>\n",
              "      <th>original_language</th>\n",
              "      <th>original_title</th>\n",
              "      <th>overview</th>\n",
              "      <th>popularity</th>\n",
              "      <th>production_countries</th>\n",
              "      <th>release_date</th>\n",
              "      <th>revenue</th>\n",
              "      <th>runtime</th>\n",
              "      <th>spoken_languages</th>\n",
              "      <th>status</th>\n",
              "      <th>tagline</th>\n",
              "      <th>vote_average</th>\n",
              "      <th>vote_count</th>\n",
              "      <th>cast</th>\n",
              "      <th>crew</th>\n",
              "      <th>weighted_rating</th>\n",
              "    </tr>\n",
              "  </thead>\n",
              "  <tbody>\n",
              "    <tr>\n",
              "      <th>1881</th>\n",
              "      <td>25000000</td>\n",
              "      <td>[{\"id\": 18, \"name\": \"Drama\"}, {\"id\": 80, \"name...</td>\n",
              "      <td>278</td>\n",
              "      <td>[{\"id\": 378, \"name\": \"prison\"}, {\"id\": 417, \"n...</td>\n",
              "      <td>en</td>\n",
              "      <td>The Shawshank Redemption</td>\n",
              "      <td>Framed in the 1940s for the double murder of h...</td>\n",
              "      <td>136.747729</td>\n",
              "      <td>[{\"iso_3166_1\": \"US\", \"name\": \"United States o...</td>\n",
              "      <td>1994-09-23</td>\n",
              "      <td>28341469</td>\n",
              "      <td>142.0</td>\n",
              "      <td>[{\"iso_639_1\": \"en\", \"name\": \"English\"}]</td>\n",
              "      <td>Released</td>\n",
              "      <td>Fear can hold you prisoner. Hope can set you f...</td>\n",
              "      <td>8.5</td>\n",
              "      <td>8205</td>\n",
              "      <td>[{\"cast_id\": 3, \"character\": \"Andy Dufresne\", ...</td>\n",
              "      <td>[{\"credit_id\": \"52fe4231c3a36847f800b153\", \"de...</td>\n",
              "      <td>8.027384</td>\n",
              "    </tr>\n",
              "    <tr>\n",
              "      <th>662</th>\n",
              "      <td>63000000</td>\n",
              "      <td>[{\"id\": 18, \"name\": \"Drama\"}]</td>\n",
              "      <td>550</td>\n",
              "      <td>[{\"id\": 825, \"name\": \"support group\"}, {\"id\": ...</td>\n",
              "      <td>en</td>\n",
              "      <td>Fight Club</td>\n",
              "      <td>A ticking-time-bomb insomniac and a slippery s...</td>\n",
              "      <td>146.757391</td>\n",
              "      <td>[{\"iso_3166_1\": \"DE\", \"name\": \"Germany\"}, {\"is...</td>\n",
              "      <td>1999-10-15</td>\n",
              "      <td>100853753</td>\n",
              "      <td>139.0</td>\n",
              "      <td>[{\"iso_639_1\": \"en\", \"name\": \"English\"}]</td>\n",
              "      <td>Released</td>\n",
              "      <td>Mischief. Mayhem. Soap.</td>\n",
              "      <td>8.3</td>\n",
              "      <td>9413</td>\n",
              "      <td>[{\"cast_id\": 4, \"character\": \"The Narrator\", \"...</td>\n",
              "      <td>[{\"credit_id\": \"55731b8192514111610027d7\", \"de...</td>\n",
              "      <td>7.913465</td>\n",
              "    </tr>\n",
              "    <tr>\n",
              "      <th>65</th>\n",
              "      <td>185000000</td>\n",
              "      <td>[{\"id\": 18, \"name\": \"Drama\"}, {\"id\": 28, \"name...</td>\n",
              "      <td>155</td>\n",
              "      <td>[{\"id\": 849, \"name\": \"dc comics\"}, {\"id\": 853,...</td>\n",
              "      <td>en</td>\n",
              "      <td>The Dark Knight</td>\n",
              "      <td>Batman raises the stakes in his war on crime. ...</td>\n",
              "      <td>187.322927</td>\n",
              "      <td>[{\"iso_3166_1\": \"GB\", \"name\": \"United Kingdom\"...</td>\n",
              "      <td>2008-07-16</td>\n",
              "      <td>1004558444</td>\n",
              "      <td>152.0</td>\n",
              "      <td>[{\"iso_639_1\": \"en\", \"name\": \"English\"}, {\"iso...</td>\n",
              "      <td>Released</td>\n",
              "      <td>Why So Serious?</td>\n",
              "      <td>8.2</td>\n",
              "      <td>12002</td>\n",
              "      <td>[{\"cast_id\": 35, \"character\": \"Bruce Wayne\", \"...</td>\n",
              "      <td>[{\"credit_id\": \"55a0eb4a925141296b0010f8\", \"de...</td>\n",
              "      <td>7.899322</td>\n",
              "    </tr>\n",
              "    <tr>\n",
              "      <th>3232</th>\n",
              "      <td>8000000</td>\n",
              "      <td>[{\"id\": 53, \"name\": \"Thriller\"}, {\"id\": 80, \"n...</td>\n",
              "      <td>680</td>\n",
              "      <td>[{\"id\": 396, \"name\": \"transporter\"}, {\"id\": 14...</td>\n",
              "      <td>en</td>\n",
              "      <td>Pulp Fiction</td>\n",
              "      <td>A burger-loving hit man, his philosophical par...</td>\n",
              "      <td>121.463076</td>\n",
              "      <td>[{\"iso_3166_1\": \"US\", \"name\": \"United States o...</td>\n",
              "      <td>1994-10-08</td>\n",
              "      <td>213928762</td>\n",
              "      <td>154.0</td>\n",
              "      <td>[{\"iso_639_1\": \"en\", \"name\": \"English\"}, {\"iso...</td>\n",
              "      <td>Released</td>\n",
              "      <td>Just because you are a character doesn't mean ...</td>\n",
              "      <td>8.3</td>\n",
              "      <td>8428</td>\n",
              "      <td>[{\"cast_id\": 2, \"character\": \"Vincent Vega\", \"...</td>\n",
              "      <td>[{\"credit_id\": \"52fe4269c3a36847f801caa3\", \"de...</td>\n",
              "      <td>7.877305</td>\n",
              "    </tr>\n",
              "    <tr>\n",
              "      <th>96</th>\n",
              "      <td>160000000</td>\n",
              "      <td>[{\"id\": 28, \"name\": \"Action\"}, {\"id\": 53, \"nam...</td>\n",
              "      <td>27205</td>\n",
              "      <td>[{\"id\": 1014, \"name\": \"loss of lover\"}, {\"id\":...</td>\n",
              "      <td>en</td>\n",
              "      <td>Inception</td>\n",
              "      <td>Cobb, a skilled thief who commits corporate es...</td>\n",
              "      <td>167.583710</td>\n",
              "      <td>[{\"iso_3166_1\": \"GB\", \"name\": \"United Kingdom\"...</td>\n",
              "      <td>2010-07-14</td>\n",
              "      <td>825532764</td>\n",
              "      <td>148.0</td>\n",
              "      <td>[{\"iso_639_1\": \"en\", \"name\": \"English\"}, {\"iso...</td>\n",
              "      <td>Released</td>\n",
              "      <td>Your mind is the scene of the crime.</td>\n",
              "      <td>8.1</td>\n",
              "      <td>13752</td>\n",
              "      <td>[{\"cast_id\": 1, \"character\": \"Dom Cobb\", \"cred...</td>\n",
              "      <td>[{\"credit_id\": \"56e8462cc3a368408400354c\", \"de...</td>\n",
              "      <td>7.845768</td>\n",
              "    </tr>\n",
              "  </tbody>\n",
              "</table>\n",
              "</div>\n",
              "    <div class=\"colab-df-buttons\">\n",
              "\n",
              "  <div class=\"colab-df-container\">\n",
              "    <button class=\"colab-df-convert\" onclick=\"convertToInteractive('df-83008c57-9385-45cc-b322-206c392ffa72')\"\n",
              "            title=\"Convert this dataframe to an interactive table.\"\n",
              "            style=\"display:none;\">\n",
              "\n",
              "  <svg xmlns=\"http://www.w3.org/2000/svg\" height=\"24px\" viewBox=\"0 -960 960 960\">\n",
              "    <path d=\"M120-120v-720h720v720H120Zm60-500h600v-160H180v160Zm220 220h160v-160H400v160Zm0 220h160v-160H400v160ZM180-400h160v-160H180v160Zm440 0h160v-160H620v160ZM180-180h160v-160H180v160Zm440 0h160v-160H620v160Z\"/>\n",
              "  </svg>\n",
              "    </button>\n",
              "\n",
              "  <style>\n",
              "    .colab-df-container {\n",
              "      display:flex;\n",
              "      gap: 12px;\n",
              "    }\n",
              "\n",
              "    .colab-df-convert {\n",
              "      background-color: #E8F0FE;\n",
              "      border: none;\n",
              "      border-radius: 50%;\n",
              "      cursor: pointer;\n",
              "      display: none;\n",
              "      fill: #1967D2;\n",
              "      height: 32px;\n",
              "      padding: 0 0 0 0;\n",
              "      width: 32px;\n",
              "    }\n",
              "\n",
              "    .colab-df-convert:hover {\n",
              "      background-color: #E2EBFA;\n",
              "      box-shadow: 0px 1px 2px rgba(60, 64, 67, 0.3), 0px 1px 3px 1px rgba(60, 64, 67, 0.15);\n",
              "      fill: #174EA6;\n",
              "    }\n",
              "\n",
              "    .colab-df-buttons div {\n",
              "      margin-bottom: 4px;\n",
              "    }\n",
              "\n",
              "    [theme=dark] .colab-df-convert {\n",
              "      background-color: #3B4455;\n",
              "      fill: #D2E3FC;\n",
              "    }\n",
              "\n",
              "    [theme=dark] .colab-df-convert:hover {\n",
              "      background-color: #434B5C;\n",
              "      box-shadow: 0px 1px 3px 1px rgba(0, 0, 0, 0.15);\n",
              "      filter: drop-shadow(0px 1px 2px rgba(0, 0, 0, 0.3));\n",
              "      fill: #FFFFFF;\n",
              "    }\n",
              "  </style>\n",
              "\n",
              "    <script>\n",
              "      const buttonEl =\n",
              "        document.querySelector('#df-83008c57-9385-45cc-b322-206c392ffa72 button.colab-df-convert');\n",
              "      buttonEl.style.display =\n",
              "        google.colab.kernel.accessAllowed ? 'block' : 'none';\n",
              "\n",
              "      async function convertToInteractive(key) {\n",
              "        const element = document.querySelector('#df-83008c57-9385-45cc-b322-206c392ffa72');\n",
              "        const dataTable =\n",
              "          await google.colab.kernel.invokeFunction('convertToInteractive',\n",
              "                                                    [key], {});\n",
              "        if (!dataTable) return;\n",
              "\n",
              "        const docLinkHtml = 'Like what you see? Visit the ' +\n",
              "          '<a target=\"_blank\" href=https://colab.research.google.com/notebooks/data_table.ipynb>data table notebook</a>'\n",
              "          + ' to learn more about interactive tables.';\n",
              "        element.innerHTML = '';\n",
              "        dataTable['output_type'] = 'display_data';\n",
              "        await google.colab.output.renderOutput(dataTable, element);\n",
              "        const docLink = document.createElement('div');\n",
              "        docLink.innerHTML = docLinkHtml;\n",
              "        element.appendChild(docLink);\n",
              "      }\n",
              "    </script>\n",
              "  </div>\n",
              "\n",
              "\n",
              "<div id=\"df-2d75cb30-a794-4975-97bd-24604265895e\">\n",
              "  <button class=\"colab-df-quickchart\" onclick=\"quickchart('df-2d75cb30-a794-4975-97bd-24604265895e')\"\n",
              "            title=\"Suggest charts.\"\n",
              "            style=\"display:none;\">\n",
              "\n",
              "<svg xmlns=\"http://www.w3.org/2000/svg\" height=\"24px\"viewBox=\"0 0 24 24\"\n",
              "     width=\"24px\">\n",
              "    <g>\n",
              "        <path d=\"M19 3H5c-1.1 0-2 .9-2 2v14c0 1.1.9 2 2 2h14c1.1 0 2-.9 2-2V5c0-1.1-.9-2-2-2zM9 17H7v-7h2v7zm4 0h-2V7h2v10zm4 0h-2v-4h2v4z\"/>\n",
              "    </g>\n",
              "</svg>\n",
              "  </button>\n",
              "\n",
              "<style>\n",
              "  .colab-df-quickchart {\n",
              "      --bg-color: #E8F0FE;\n",
              "      --fill-color: #1967D2;\n",
              "      --hover-bg-color: #E2EBFA;\n",
              "      --hover-fill-color: #174EA6;\n",
              "      --disabled-fill-color: #AAA;\n",
              "      --disabled-bg-color: #DDD;\n",
              "  }\n",
              "\n",
              "  [theme=dark] .colab-df-quickchart {\n",
              "      --bg-color: #3B4455;\n",
              "      --fill-color: #D2E3FC;\n",
              "      --hover-bg-color: #434B5C;\n",
              "      --hover-fill-color: #FFFFFF;\n",
              "      --disabled-bg-color: #3B4455;\n",
              "      --disabled-fill-color: #666;\n",
              "  }\n",
              "\n",
              "  .colab-df-quickchart {\n",
              "    background-color: var(--bg-color);\n",
              "    border: none;\n",
              "    border-radius: 50%;\n",
              "    cursor: pointer;\n",
              "    display: none;\n",
              "    fill: var(--fill-color);\n",
              "    height: 32px;\n",
              "    padding: 0;\n",
              "    width: 32px;\n",
              "  }\n",
              "\n",
              "  .colab-df-quickchart:hover {\n",
              "    background-color: var(--hover-bg-color);\n",
              "    box-shadow: 0 1px 2px rgba(60, 64, 67, 0.3), 0 1px 3px 1px rgba(60, 64, 67, 0.15);\n",
              "    fill: var(--button-hover-fill-color);\n",
              "  }\n",
              "\n",
              "  .colab-df-quickchart-complete:disabled,\n",
              "  .colab-df-quickchart-complete:disabled:hover {\n",
              "    background-color: var(--disabled-bg-color);\n",
              "    fill: var(--disabled-fill-color);\n",
              "    box-shadow: none;\n",
              "  }\n",
              "\n",
              "  .colab-df-spinner {\n",
              "    border: 2px solid var(--fill-color);\n",
              "    border-color: transparent;\n",
              "    border-bottom-color: var(--fill-color);\n",
              "    animation:\n",
              "      spin 1s steps(1) infinite;\n",
              "  }\n",
              "\n",
              "  @keyframes spin {\n",
              "    0% {\n",
              "      border-color: transparent;\n",
              "      border-bottom-color: var(--fill-color);\n",
              "      border-left-color: var(--fill-color);\n",
              "    }\n",
              "    20% {\n",
              "      border-color: transparent;\n",
              "      border-left-color: var(--fill-color);\n",
              "      border-top-color: var(--fill-color);\n",
              "    }\n",
              "    30% {\n",
              "      border-color: transparent;\n",
              "      border-left-color: var(--fill-color);\n",
              "      border-top-color: var(--fill-color);\n",
              "      border-right-color: var(--fill-color);\n",
              "    }\n",
              "    40% {\n",
              "      border-color: transparent;\n",
              "      border-right-color: var(--fill-color);\n",
              "      border-top-color: var(--fill-color);\n",
              "    }\n",
              "    60% {\n",
              "      border-color: transparent;\n",
              "      border-right-color: var(--fill-color);\n",
              "    }\n",
              "    80% {\n",
              "      border-color: transparent;\n",
              "      border-right-color: var(--fill-color);\n",
              "      border-bottom-color: var(--fill-color);\n",
              "    }\n",
              "    90% {\n",
              "      border-color: transparent;\n",
              "      border-bottom-color: var(--fill-color);\n",
              "    }\n",
              "  }\n",
              "</style>\n",
              "\n",
              "  <script>\n",
              "    async function quickchart(key) {\n",
              "      const quickchartButtonEl =\n",
              "        document.querySelector('#' + key + ' button');\n",
              "      quickchartButtonEl.disabled = true;  // To prevent multiple clicks.\n",
              "      quickchartButtonEl.classList.add('colab-df-spinner');\n",
              "      try {\n",
              "        const charts = await google.colab.kernel.invokeFunction(\n",
              "            'suggestCharts', [key], {});\n",
              "      } catch (error) {\n",
              "        console.error('Error during call to suggestCharts:', error);\n",
              "      }\n",
              "      quickchartButtonEl.classList.remove('colab-df-spinner');\n",
              "      quickchartButtonEl.classList.add('colab-df-quickchart-complete');\n",
              "    }\n",
              "    (() => {\n",
              "      let quickchartButtonEl =\n",
              "        document.querySelector('#df-2d75cb30-a794-4975-97bd-24604265895e button');\n",
              "      quickchartButtonEl.style.display =\n",
              "        google.colab.kernel.accessAllowed ? 'block' : 'none';\n",
              "    })();\n",
              "  </script>\n",
              "</div>\n",
              "    </div>\n",
              "  </div>\n"
            ]
          },
          "metadata": {},
          "execution_count": 10
        }
      ]
    },
    {
      "cell_type": "code",
      "source": [
        "# looking at columns : cast, crew, keywords, original title, genres\n"
      ],
      "metadata": {
        "id": "qxPfzbxKTlYD"
      },
      "execution_count": null,
      "outputs": []
    },
    {
      "cell_type": "code",
      "source": [
        "# check the datatype of elements\n"
      ],
      "metadata": {
        "id": "NrfdvM_GYkKT"
      },
      "execution_count": null,
      "outputs": []
    },
    {
      "cell_type": "code",
      "source": [
        "# changing datatype of list\n"
      ],
      "metadata": {
        "id": "pb6TcxKHbSl2"
      },
      "execution_count": 13,
      "outputs": []
    },
    {
      "cell_type": "code",
      "source": [
        "# testing the datatype again\n"
      ],
      "metadata": {
        "id": "XQ1Ik4Kybtoc"
      },
      "execution_count": null,
      "outputs": []
    },
    {
      "cell_type": "code",
      "source": [
        "# printing one element from crew column\n"
      ],
      "metadata": {
        "id": "0il-wTkZg99s"
      },
      "execution_count": null,
      "outputs": []
    },
    {
      "cell_type": "code",
      "source": [
        "# adding director column in dataframe\n"
      ],
      "metadata": {
        "id": "jnRcRAOekIv_"
      },
      "execution_count": 16,
      "outputs": []
    },
    {
      "cell_type": "code",
      "source": [
        "# print the title and director column\n"
      ],
      "metadata": {
        "id": "kqaGXa8FscvC"
      },
      "execution_count": null,
      "outputs": []
    },
    {
      "cell_type": "code",
      "source": [
        "# printing first element in cast column\n"
      ],
      "metadata": {
        "id": "RWY65iye3_sQ"
      },
      "execution_count": null,
      "outputs": []
    },
    {
      "cell_type": "code",
      "source": [
        "# printing first element in keywords column\n"
      ],
      "metadata": {
        "id": "A-yIVJfi4ujx"
      },
      "execution_count": null,
      "outputs": []
    },
    {
      "cell_type": "code",
      "source": [
        "# printing first element in genres column\n"
      ],
      "metadata": {
        "id": "TEzvfNor5CVi"
      },
      "execution_count": null,
      "outputs": []
    },
    {
      "cell_type": "code",
      "source": [
        "# extracting names\n"
      ],
      "metadata": {
        "id": "QTEZTR1f781Z"
      },
      "execution_count": 21,
      "outputs": []
    },
    {
      "cell_type": "code",
      "source": [
        "# verify the changes\n"
      ],
      "metadata": {
        "id": "85IiCp49K0YH"
      },
      "execution_count": null,
      "outputs": []
    },
    {
      "cell_type": "code",
      "source": [
        "# cleaning data\n",
        "def clean_data(column_value):\n",
        "  modified_list = []\n",
        "  modified_string = \"\"\n",
        "  if isinstance(column_value , list):\n",
        "    for element in column_value:\n",
        "      modified_string = element.replace(\" \" , \"\")\n",
        "      modified_list.append(modified_string.lower())\n",
        "\n",
        "    return modified_list\n",
        "\n",
        "  elif isinstance(column_value , str):\n",
        "    modified_string = column_value.replace(\" \" , \"\")\n",
        "    return modified_string.lower()\n",
        "\n",
        "  else:\n",
        "    return ''\n",
        "\n",
        "features = ['cast' , 'keywords' , 'genres' , 'director']\n",
        "for feature in features:\n",
        "  common_df[feature] = common_df[feature].apply(clean_data)"
      ],
      "metadata": {
        "id": "gilBy2ZQUXm-"
      },
      "execution_count": 23,
      "outputs": []
    },
    {
      "cell_type": "code",
      "source": [
        "# verify the changes\n"
      ],
      "metadata": {
        "id": "9-NtKCI0C4wu"
      },
      "execution_count": null,
      "outputs": []
    },
    {
      "cell_type": "code",
      "source": [
        "# try out the .join method\n",
        "b = ['hello,' , 'how' , 'are' , 'you' , '?']\n",
        "c = \" \".join(b)\n",
        "print(c)"
      ],
      "metadata": {
        "id": "Rke_RR3PHCa1",
        "colab": {
          "base_uri": "https://localhost:8080/"
        },
        "outputId": "6935a80f-ef6d-4094-d70d-fe54f0eb325e"
      },
      "execution_count": 25,
      "outputs": [
        {
          "output_type": "stream",
          "name": "stdout",
          "text": [
            "hello, how are you ?\n"
          ]
        }
      ]
    },
    {
      "cell_type": "code",
      "source": [
        "# creating soup\n"
      ],
      "metadata": {
        "id": "VVLKFMatGqNc"
      },
      "execution_count": 26,
      "outputs": []
    },
    {
      "cell_type": "code",
      "source": [
        "# verifying the output\n"
      ],
      "metadata": {
        "id": "CMEqNlro68lE"
      },
      "execution_count": null,
      "outputs": []
    },
    {
      "cell_type": "code",
      "source": [
        "# creating vectors or matrix\n",
        "from sklearn.feature_extraction.text import CountVectorizer\n",
        "count = CountVectorizer(stop_words='english')\n",
        "count_matrix = count.fit_transform(common_df['soup'])"
      ],
      "metadata": {
        "id": "hfcHVyAl78Y8"
      },
      "execution_count": 28,
      "outputs": []
    },
    {
      "cell_type": "code",
      "source": [
        "from sklearn.metrics.pairwise import cosine_similarity\n",
        "cosine_sim2 = cosine_similarity(count_matrix, count_matrix)"
      ],
      "metadata": {
        "id": "VuASR99l9eVW"
      },
      "execution_count": 29,
      "outputs": []
    },
    {
      "cell_type": "code",
      "source": [
        "common_df = common_df.reset_index()\n",
        "indices = pd.Series(common_df.index, index=common_df['original_title'])"
      ],
      "metadata": {
        "id": "uDg-n0i29j_a"
      },
      "execution_count": 31,
      "outputs": []
    },
    {
      "cell_type": "code",
      "source": [
        "def get_recommendations(title, cosine_sim):\n",
        "   idx = indices[title]\n",
        "   sim_scores = list(enumerate(cosine_sim[idx]))\n",
        "   sim_scores = sorted(sim_scores, key=lambda x: x[1], reverse=True)\n",
        "   sim_scores = sim_scores[1:11]\n",
        "   movie_indices = [i[0] for i in sim_scores]\n",
        "   return common_df['original_title'].iloc[movie_indices]"
      ],
      "metadata": {
        "id": "KI-j8acr9qvn"
      },
      "execution_count": 32,
      "outputs": []
    },
    {
      "cell_type": "code",
      "source": [
        "get_recommendations('Fight Club', cosine_sim2)"
      ],
      "metadata": {
        "id": "sOnwj9Fo95Rx",
        "colab": {
          "base_uri": "https://localhost:8080/"
        },
        "outputId": "f410128a-cce9-4894-cb74-99a9bceaa3ce"
      },
      "execution_count": 33,
      "outputs": [
        {
          "output_type": "execute_result",
          "data": {
            "text/plain": [
              "16                         Se7en\n",
              "247                     The Game\n",
              "248                       Zodiac\n",
              "386                  World War Z\n",
              "2665                Full Frontal\n",
              "1950       Me You and Five Bucks\n",
              "2152    Amidst the Devil's Wings\n",
              "3863                     RoboCop\n",
              "1827                      Alien³\n",
              "1394                  Salton Sea\n",
              "Name: original_title, dtype: object"
            ]
          },
          "metadata": {},
          "execution_count": 33
        }
      ]
    },
    {
      "cell_type": "code",
      "source": [
        "# call ger_recommendation function for The Shawshank Redemption\n"
      ],
      "metadata": {
        "id": "XPTuaoPUfD9T"
      },
      "execution_count": null,
      "outputs": []
    },
    {
      "cell_type": "code",
      "source": [
        "# converting df to csv\n"
      ],
      "metadata": {
        "id": "M7-_Iybbs1uu"
      },
      "execution_count": 34,
      "outputs": []
    },
    {
      "cell_type": "code",
      "source": [
        "# downloading file\n"
      ],
      "metadata": {
        "colab": {
          "base_uri": "https://localhost:8080/",
          "height": 17
        },
        "id": "BQhgovs_s4jV",
        "outputId": "dde89f15-7112-4ed9-c71d-a3d3933d1647"
      },
      "execution_count": 35,
      "outputs": [
        {
          "output_type": "display_data",
          "data": {
            "text/plain": [
              "<IPython.core.display.Javascript object>"
            ],
            "application/javascript": [
              "\n",
              "    async function download(id, filename, size) {\n",
              "      if (!google.colab.kernel.accessAllowed) {\n",
              "        return;\n",
              "      }\n",
              "      const div = document.createElement('div');\n",
              "      const label = document.createElement('label');\n",
              "      label.textContent = `Downloading \"${filename}\": `;\n",
              "      div.appendChild(label);\n",
              "      const progress = document.createElement('progress');\n",
              "      progress.max = size;\n",
              "      div.appendChild(progress);\n",
              "      document.body.appendChild(div);\n",
              "\n",
              "      const buffers = [];\n",
              "      let downloaded = 0;\n",
              "\n",
              "      const channel = await google.colab.kernel.comms.open(id);\n",
              "      // Send a message to notify the kernel that we're ready.\n",
              "      channel.send({})\n",
              "\n",
              "      for await (const message of channel.messages) {\n",
              "        // Send a message to notify the kernel that we're ready.\n",
              "        channel.send({})\n",
              "        if (message.buffers) {\n",
              "          for (const buffer of message.buffers) {\n",
              "            buffers.push(buffer);\n",
              "            downloaded += buffer.byteLength;\n",
              "            progress.value = downloaded;\n",
              "          }\n",
              "        }\n",
              "      }\n",
              "      const blob = new Blob(buffers, {type: 'application/binary'});\n",
              "      const a = document.createElement('a');\n",
              "      a.href = window.URL.createObjectURL(blob);\n",
              "      a.download = filename;\n",
              "      div.appendChild(a);\n",
              "      a.click();\n",
              "      div.remove();\n",
              "    }\n",
              "  "
            ]
          },
          "metadata": {}
        },
        {
          "output_type": "display_data",
          "data": {
            "text/plain": [
              "<IPython.core.display.Javascript object>"
            ],
            "application/javascript": [
              "download(\"download_087808a7-ae3a-465a-ac81-23494f8ea0c9\", \"movies.csv\", 23831755)"
            ]
          },
          "metadata": {}
        }
      ]
    }
  ]
}